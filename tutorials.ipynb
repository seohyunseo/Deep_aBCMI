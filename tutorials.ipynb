{
 "cells": [
  {
   "cell_type": "code",
   "execution_count": 1,
   "metadata": {},
   "outputs": [
    {
     "name": "stdout",
     "output_type": "stream",
     "text": [
      "pygame 2.5.2 (SDL 2.28.3, Python 3.11.6)\n",
      "Hello from the pygame community. https://www.pygame.org/contribute.html\n"
     ]
    }
   ],
   "source": [
    "import pygame"
   ]
  },
  {
   "cell_type": "code",
   "execution_count": 4,
   "metadata": {},
   "outputs": [],
   "source": [
    "def play_midi_file(midi_file_path, duration=30):\n",
    "    # Initialize Pygame and the MIDI module\n",
    "    pygame.init()\n",
    "    pygame.mixer.init()\n",
    "\n",
    "    # Load the MIDI file\n",
    "    pygame.mixer.music.load(midi_file_path)\n",
    "\n",
    "    # Play the MIDI file\n",
    "    pygame.mixer.music.play()\n",
    "\n",
    "    # Record the starting time\n",
    "    start_time = pygame.time.get_ticks()\n",
    "\n",
    "    # Wait for the specified duration\n",
    "    while pygame.mixer.music.get_busy():\n",
    "        current_time = pygame.time.get_ticks()\n",
    "        elapsed_time = (current_time - start_time) / 1000  # Convert milliseconds to seconds\n",
    "\n",
    "        if elapsed_time >= duration:\n",
    "            # Stop the music when the specified duration is reached\n",
    "            pygame.mixer.music.stop()\n",
    "            break\n",
    "\n",
    "        pygame.time.Clock().tick(10)\n",
    "\n",
    "    # Cleanup\n",
    "    pygame.mixer.quit()\n",
    "    pygame.quit()"
   ]
  },
  {
   "cell_type": "code",
   "execution_count": 5,
   "metadata": {},
   "outputs": [],
   "source": [
    "# Example usage: Play a MIDI file\n",
    "play_midi_file('./midi/test.mid')"
   ]
  }
 ],
 "metadata": {
  "kernelspec": {
   "display_name": "Python 3",
   "language": "python",
   "name": "python3"
  },
  "language_info": {
   "codemirror_mode": {
    "name": "ipython",
    "version": 3
   },
   "file_extension": ".py",
   "mimetype": "text/x-python",
   "name": "python",
   "nbconvert_exporter": "python",
   "pygments_lexer": "ipython3",
   "version": "3.11.6"
  }
 },
 "nbformat": 4,
 "nbformat_minor": 2
}
