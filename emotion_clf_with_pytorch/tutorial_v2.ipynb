{
 "cells": [
  {
   "cell_type": "markdown",
   "metadata": {},
   "source": [
    "# Dependencies"
   ]
  },
  {
   "cell_type": "code",
   "execution_count": 1,
   "metadata": {
    "id": "rAn22bJE-8HR"
   },
   "outputs": [
    {
     "name": "stdout",
     "output_type": "stream",
     "text": [
      "cuda:0\n"
     ]
    },
    {
     "name": "stderr",
     "output_type": "stream",
     "text": [
      "/tmp/ipykernel_991247/3661471088.py:9: DeprecationWarning: \n",
      "Pyarrow will become a required dependency of pandas in the next major release of pandas (pandas 3.0),\n",
      "(to allow more performant data types, such as the Arrow string type, and better interoperability with other libraries)\n",
      "but was not found to be installed on your system.\n",
      "If this would cause problems for you,\n",
      "please provide us feedback at https://github.com/pandas-dev/pandas/issues/54466\n",
      "        \n",
      "  import pandas as pd\n"
     ]
    }
   ],
   "source": [
    "import mne, warnings # done in mac m1\n",
    "import numpy as np # done in mac m1\n",
    "from itertools import chain\n",
    "import matplotlib.pyplot as plt\n",
    "import sklearn.model_selection as model_selection\n",
    "import scipy.io\n",
    "import torch\n",
    "import torch.nn as nn\n",
    "import pandas as pd\n",
    "from torch.utils.data import Dataset\n",
    "from sklearn.preprocessing import StandardScaler\n",
    "import torch.optim as optim\n",
    "from sklearn.model_selection import KFold\n",
    "from torch.utils.data import SubsetRandomSampler, DataLoader\n",
    "warnings.filterwarnings('ignore')\n",
    "mne.set_log_level('WARNING')\n",
    "\n",
    "device = torch.device(\"cuda:0\" if torch.cuda.is_available() else \"cpu\")\n",
    "print(device)"
   ]
  },
  {
   "cell_type": "markdown",
   "metadata": {},
   "source": [
    "# Functions & Classes"
   ]
  },
  {
   "cell_type": "markdown",
   "metadata": {},
   "source": [
    "### Function: Feature extraction"
   ]
  },
  {
   "cell_type": "code",
   "execution_count": 2,
   "metadata": {
    "id": "3F6RQVap-8HY"
   },
   "outputs": [],
   "source": [
    "def get_feature(data):\n",
    "    channel_no = [0, 2, 16, 19] # only taking these four channels\n",
    "    feature_matrix = []\n",
    "    for ith_video in range(data.shape[0]):\n",
    "        features = []\n",
    "        for ith_channel in channel_no:\n",
    "            # power spectral density\n",
    "            psd, freqs = plt.psd(data[ith_video][ith_channel], Fs = 128)\n",
    "            # get frequency bands mean power\n",
    "            theta_mean = np.mean(psd[np.logical_and(freqs >= 4, freqs <= 7)])\n",
    "            alpha_mean = np.mean(psd[np.logical_and(freqs >= 8, freqs <= 13)])\n",
    "            beta_mean  = np.mean(psd[np.logical_and(freqs >= 13, freqs <= 30)])\n",
    "            gamma_mean = np.mean(psd[np.logical_and(freqs >= 30, freqs <= 40)])\n",
    "            features.append([theta_mean, alpha_mean, beta_mean, gamma_mean])\n",
    "        # flatten the features i.e. transform it from 2D to 1D\n",
    "        feature_matrix.append(np.array(list(chain.from_iterable(features))))\n",
    "    return np.array(feature_matrix)"
   ]
  },
  {
   "cell_type": "markdown",
   "metadata": {},
   "source": [
    "### Function: Class labels"
   ]
  },
  {
   "cell_type": "code",
   "execution_count": 3,
   "metadata": {
    "id": "maZUGthr-8HY"
   },
   "outputs": [],
   "source": [
    "def get_class_labels(labels, class_type):\n",
    "    # encoding\n",
    "    num_labels = labels.shape[0]\n",
    "    emotion = np.ones(num_labels)\n",
    "    if(class_type=='valence'):\n",
    "        for i in range(0, num_labels):\n",
    "            if labels[i][0]>=5:\n",
    "                emotion[i] = 0\n",
    "            else:\n",
    "                emotion[i] = 1\n",
    "    elif(class_type=='arousal'):\n",
    "        for i in range(num_labels):\n",
    "            if labels[i][1]>=5:\n",
    "                emotion[i] = 0\n",
    "            else:\n",
    "                emotion[i] = 1\n",
    "    else:\n",
    "        for i in range(num_labels):\n",
    "            if(labels[i][0]>=5 and labels[i][1] >=5): # HVHA\n",
    "                emotion[i] = 0\n",
    "            elif(labels[i][0]>=5 and labels[i][1]<5): #HVLA\n",
    "                emotion[i] = 1\n",
    "            elif(labels[i][0]<5 and labels[i][1]>=5): #LVHA\n",
    "                emotion[i] = 2\n",
    "            else: #LVLA\n",
    "                emotion[i] = 3\n",
    "    return emotion"
   ]
  },
  {
   "cell_type": "markdown",
   "metadata": {},
   "source": [
    "### Function: Sliding Window"
   ]
  },
  {
   "cell_type": "code",
   "execution_count": 4,
   "metadata": {},
   "outputs": [],
   "source": [
    "# Function to apply sliding window\n",
    "def apply_sliding_window(data, window_size, overlap_size, sampling_rate):\n",
    "    trials, channels, time_steps = data.shape\n",
    "    window_size_in_samples = int(window_size * sampling_rate)\n",
    "    overlap_size_in_samples = int(overlap_size * sampling_rate)\n",
    "\n",
    "    new_time_steps = int((time_steps - window_size_in_samples) / overlap_size_in_samples) + 1\n",
    "\n",
    "    # Initialize an empty array for the new data\n",
    "    new_data = np.zeros((trials, channels, new_time_steps, window_size_in_samples))\n",
    "\n",
    "    # Apply sliding window\n",
    "    for trial in range(trials):\n",
    "        for channel in range(channels):\n",
    "            for i in range(new_time_steps):\n",
    "                start_idx = i * overlap_size_in_samples\n",
    "                end_idx = start_idx + window_size_in_samples\n",
    "                new_data[trial, channel, i, :] = data[trial, channel, start_idx:end_idx]\n",
    "\n",
    "    return new_data"
   ]
  },
  {
   "cell_type": "markdown",
   "metadata": {},
   "source": [
    "### Class: DEAP dataset class"
   ]
  },
  {
   "cell_type": "code",
   "execution_count": 5,
   "metadata": {},
   "outputs": [],
   "source": [
    "class DEAPDataset(Dataset):\n",
    "    def __init__(self, features, labels):\n",
    "        self.features = features\n",
    "        self.labels = labels\n",
    "\n",
    "        # Standardize the data\n",
    "        scaler = StandardScaler()\n",
    "        self.features = scaler.fit_transform(features)\n",
    "\n",
    "        assert self.features.shape[0] == self.labels.shape[0]\n",
    "\n",
    "    def __len__(self):\n",
    "        return len(self.features)\n",
    "    \n",
    "    def __getitem__(self, idx):\n",
    "\n",
    "        sample_features = self.features[idx]\n",
    "        sample_labels = self.labels[idx]\n",
    "\n",
    "        features = torch.tensor(sample_features, dtype=torch.float32).to(device)\n",
    "        labels = torch.tensor(sample_labels, dtype=torch.float32).to(device)\n",
    "\n",
    "        return features, labels"
   ]
  },
  {
   "cell_type": "markdown",
   "metadata": {},
   "source": [
    "### Class: MLP model class"
   ]
  },
  {
   "cell_type": "code",
   "execution_count": 6,
   "metadata": {},
   "outputs": [],
   "source": [
    "# Define the MLP model\n",
    "class MLPClassifier(nn.Module):\n",
    "    def __init__(self, input_size, hidden_size, num_classes):\n",
    "        super(MLPClassifier, self).__init__()\n",
    "        self.fc1 = nn.Linear(input_size, hidden_size)\n",
    "        self.batch_norm1 = nn.BatchNorm1d(hidden_size)\n",
    "        self.relu = nn.ReLU()\n",
    "        self.fc2 = nn.Linear(hidden_size, num_classes)\n",
    "        self.batch_norm2 = nn.BatchNorm1d(num_classes)\n",
    "        self.softmax = nn.Softmax()\n",
    "\n",
    "    def forward(self, x):\n",
    "        x = self.fc1(x)\n",
    "        # x = self.batch_norm1(x)\n",
    "        x = self.relu(x)\n",
    "        x = self.fc2(x)\n",
    "        # x = self.batch_norm2(x)\n",
    "        x = self.softmax(x)\n",
    "        return x"
   ]
  },
  {
   "cell_type": "markdown",
   "metadata": {},
   "source": [
    "### Initialization of hyperparameters"
   ]
  },
  {
   "cell_type": "code",
   "execution_count": 7,
   "metadata": {},
   "outputs": [],
   "source": [
    "# model-related parameters\n",
    "batch_size = 12\n",
    "learning_rate = 0.001\n",
    "num_epochs = 100\n",
    "hidden_size = 50\n",
    "weight_decay = 0#1e-5\n",
    "\n",
    "# data-related paramters\n",
    "window_size = 10\n",
    "overlap_size = 5"
   ]
  },
  {
   "cell_type": "markdown",
   "metadata": {},
   "source": [
    "# Main Scripts Start from here"
   ]
  },
  {
   "cell_type": "code",
   "execution_count": 8,
   "metadata": {},
   "outputs": [],
   "source": [
    "subject_no = 's01'\n",
    "# read the data\n",
    "dataset_path = '../data/deap/'\n",
    "deap_dataset = scipy.io.loadmat(dataset_path + subject_no + '.mat')"
   ]
  },
  {
   "cell_type": "code",
   "execution_count": 9,
   "metadata": {},
   "outputs": [],
   "source": [
    "# separate data and labels\n",
    "data = np.array(deap_dataset['data']) # for current data\n",
    "labels = np.array(deap_dataset['labels']) # for current labels\n",
    "# remove 3sec pre baseline\n",
    "data  = data[0:40,0:32,384:8064]"
   ]
  },
  {
   "cell_type": "code",
   "execution_count": 36,
   "metadata": {},
   "outputs": [
    {
     "name": "stdout",
     "output_type": "stream",
     "text": [
      "Original data shape: (40, 32, 7680)\n",
      "Sliding window data shape: (40, 32, 11, 1280)\n"
     ]
    }
   ],
   "source": [
    "# Parameters\n",
    "sampling_rate = 128\n",
    "\n",
    "# Apply sliding window to EEG data\n",
    "new_data = apply_sliding_window(data, window_size, overlap_size, sampling_rate)\n",
    "\n",
    "# Print the shape of the resulting data\n",
    "print(\"Original data shape:\", data.shape)\n",
    "print(\"Sliding window data shape:\", new_data.shape)\n"
   ]
  },
  {
   "cell_type": "code",
   "execution_count": 37,
   "metadata": {},
   "outputs": [
    {
     "name": "stdout",
     "output_type": "stream",
     "text": [
      "Windowed data shape: (440, 32, 1280)\n",
      "Windowed labels shape: (440, 4)\n"
     ]
    }
   ],
   "source": [
    "# windowed_data = new_data.transpose(0, 2, 1, 3)\n",
    "windowed_data = new_data.reshape(new_data.shape[0]* new_data.shape[2], new_data.shape[1], new_data.shape[3])\n",
    "windowed_labels = np.repeat(labels, new_data.shape[2], axis=0)\n",
    "print(f\"Windowed data shape: {windowed_data.shape}\")\n",
    "print(f\"Windowed labels shape: {windowed_labels.shape}\")"
   ]
  },
  {
   "cell_type": "code",
   "execution_count": 38,
   "metadata": {},
   "outputs": [
    {
     "data": {
      "text/plain": [
       "array([  4.05213   ,   3.05326186,   1.18607868,   1.24150632,\n",
       "         0.44477828,   1.48224566,  -5.16597533,  -5.44357024,\n",
       "        -7.58547927,  -4.69006138, -10.40727608,  -5.65112981,\n",
       "        -9.99110654,  -5.8908037 ,  -1.84688635,  -0.66937296,\n",
       "         4.8571618 ,   5.08835034,   2.78964412,   3.18963749,\n",
       "         4.26230189,   3.22384615,   3.93998582,  -0.84154535,\n",
       "         1.22076425,   4.64861703,   2.89293124,   0.32994684,\n",
       "         1.05449672,   2.74540878,   2.81410777,   3.66600597])"
      ]
     },
     "execution_count": 38,
     "metadata": {},
     "output_type": "execute_result"
    }
   ],
   "source": [
    "new_data[0, :, 0,0]"
   ]
  },
  {
   "cell_type": "code",
   "execution_count": 39,
   "metadata": {},
   "outputs": [
    {
     "data": {
      "text/plain": [
       "array([  4.05213   ,   3.05326186,   1.18607868,   1.24150632,\n",
       "         0.44477828,   1.48224566,  -5.16597533,  -5.44357024,\n",
       "        -7.58547927,  -4.69006138, -10.40727608,  -5.65112981,\n",
       "        -9.99110654,  -5.8908037 ,  -1.84688635,  -0.66937296,\n",
       "         4.8571618 ,   5.08835034,   2.78964412,   3.18963749,\n",
       "         4.26230189,   3.22384615,   3.93998582,  -0.84154535,\n",
       "         1.22076425,   4.64861703,   2.89293124,   0.32994684,\n",
       "         1.05449672,   2.74540878,   2.81410777,   3.66600597])"
      ]
     },
     "execution_count": 39,
     "metadata": {},
     "output_type": "execute_result"
    }
   ],
   "source": [
    "data[0,:,0]"
   ]
  },
  {
   "cell_type": "code",
   "execution_count": 40,
   "metadata": {},
   "outputs": [
    {
     "data": {
      "text/plain": [
       "array([ 4.05213   , -1.96334966,  4.34449797, -1.47488688, -1.6845739 ,\n",
       "        0.46758094, -6.96572237,  2.60053624, -0.96050485,  0.91040313,\n",
       "       -3.39686375,  3.05326186, -0.79027532,  3.65577633, -5.16525828,\n",
       "       -0.09196482,  0.01869017, -2.92876987,  3.5427748 , -0.88957208,\n",
       "       -1.34761537, -2.29087971,  1.18607868, -0.7012143 ,  2.03966913,\n",
       "       -5.91649286,  0.17408117, -3.85331419,  0.49949613,  4.14760167,\n",
       "       -1.49053644, -0.60248353])"
      ]
     },
     "execution_count": 40,
     "metadata": {},
     "output_type": "execute_result"
    }
   ],
   "source": [
    "windowed_data[0,:,0]"
   ]
  },
  {
   "cell_type": "code",
   "execution_count": 14,
   "metadata": {},
   "outputs": [],
   "source": [
    "raw_matrix = windowed_data.reshape(windowed_data.shape[0], -1)\n",
    "raw_matrix.shape\n",
    "features = raw_matrix"
   ]
  },
  {
   "cell_type": "code",
   "execution_count": 13,
   "metadata": {},
   "outputs": [
    {
     "name": "stdout",
     "output_type": "stream",
     "text": [
      "Features shape: (440, 16)\n"
     ]
    },
    {
     "data": {
      "image/png": "[encoded data removed]",
      "text/plain": [
       "<Figure size 640x480 with 1 Axes>"
      ]
     },
     "metadata": {},
     "output_type": "display_data"
    }
   ],
   "source": [
    "# channel_no = [0, 2, 16, 19] # only taking these four channels\n",
    "# features = windowed_data[:,channel_no,:].reshape(windowed_data.shape[0], -1)\n",
    "features = get_feature(windowed_data)\n",
    "print(f\"Features shape: {features.shape}\")"
   ]
  },
  {
   "cell_type": "code",
   "execution_count": 15,
   "metadata": {},
   "outputs": [
    {
     "name": "stdout",
     "output_type": "stream",
     "text": [
      "Labels shape: (440,)\n"
     ]
    }
   ],
   "source": [
    "# features = get_feature(data)\n",
    "valence_labels = get_class_labels(windowed_labels, 'valence')\n",
    "arousal_labels = get_class_labels(windowed_labels, 'arousal')\n",
    "four_labels = get_class_labels(windowed_labels, 'four')\n",
    "print(f\"Labels shape: {four_labels.shape}\")"
   ]
  },
  {
   "cell_type": "code",
   "execution_count": 16,
   "metadata": {},
   "outputs": [
    {
     "name": "stdout",
     "output_type": "stream",
     "text": [
      "Train shape: (352, 40960)\n",
      "Test shape: (88, 40960)\n"
     ]
    }
   ],
   "source": [
    "# Split the dataset into training and testing sets\n",
    "X_train, X_test, y_train, y_test = model_selection.train_test_split(features, four_labels, test_size=0.2, random_state=42)\n",
    "\n",
    "print(f\"Train shape: {X_train.shape}\")\n",
    "print(f\"Test shape: {X_test.shape}\")"
   ]
  },
  {
   "cell_type": "code",
   "execution_count": 17,
   "metadata": {},
   "outputs": [],
   "source": [
    "train_torch = DEAPDataset(X_train, y_train)"
   ]
  },
  {
   "cell_type": "code",
   "execution_count": 18,
   "metadata": {},
   "outputs": [
    {
     "data": {
      "text/plain": [
       "MLPClassifier(\n",
       "  (fc1): Linear(in_features=40960, out_features=50, bias=True)\n",
       "  (batch_norm1): BatchNorm1d(50, eps=1e-05, momentum=0.1, affine=True, track_running_stats=True)\n",
       "  (relu): ReLU()\n",
       "  (fc2): Linear(in_features=50, out_features=4, bias=True)\n",
       "  (batch_norm2): BatchNorm1d(4, eps=1e-05, momentum=0.1, affine=True, track_running_stats=True)\n",
       "  (softmax): Softmax(dim=None)\n",
       ")"
      ]
     },
     "execution_count": 18,
     "metadata": {},
     "output_type": "execute_result"
    }
   ],
   "source": [
    "model = MLPClassifier(input_size=features.shape[1], hidden_size= hidden_size, num_classes=len(np.unique(four_labels)))\n",
    "model.to(device)"
   ]
  },
  {
   "cell_type": "markdown",
   "metadata": {},
   "source": [
    "# Train \n",
    "### - Don't Run this code except for training"
   ]
  },
  {
   "cell_type": "code",
   "execution_count": 25,
   "metadata": {},
   "outputs": [
    {
     "name": "stdout",
     "output_type": "stream",
     "text": [
      "[1] Fold => Train Loss: 0.0874, Accuracy: 0.5795 | Validation Loss 0.0109\n",
      "[2] Fold => Train Loss: 0.0786, Accuracy: 0.6761 | Validation Loss 0.0109\n",
      "[3] Fold => Train Loss: 0.0763, Accuracy: 0.6960 | Validation Loss 0.0099\n",
      "[4] Fold => Train Loss: 0.0748, Accuracy: 0.7045 | Validation Loss 0.0094\n",
      "[5] Fold => Train Loss: 0.0736, Accuracy: 0.7188 | Validation Loss 0.0090\n",
      "[6] Fold => Train Loss: 0.0736, Accuracy: 0.7074 | Validation Loss 0.0082\n",
      "[7] Fold => Train Loss: 0.0723, Accuracy: 0.7188 | Validation Loss 0.0083\n",
      "[8] Fold => Train Loss: 0.0720, Accuracy: 0.7216 | Validation Loss 0.0086\n",
      "[9] Fold => Train Loss: 0.0728, Accuracy: 0.7074 | Validation Loss 0.0076\n",
      "[10] Fold => Train Loss: 0.0720, Accuracy: 0.7131 | Validation Loss 0.0075\n"
     ]
    }
   ],
   "source": [
    "k_folds = 10\n",
    "\n",
    "kfold = KFold(n_splits=k_folds, shuffle=True)\n",
    "\n",
    "criterion = nn.CrossEntropyLoss()\n",
    "optimizer = optim.Adam(model.parameters(), lr=learning_rate, weight_decay=weight_decay)\n",
    "\n",
    "train_losses = []\n",
    "val_losses = []\n",
    "\n",
    "for fold, (train_idx, val_idx) in enumerate(kfold.split(train_torch)):\n",
    "\n",
    "    train_subsampler = SubsetRandomSampler(train_idx)\n",
    "    val_subsampler = SubsetRandomSampler(val_idx)\n",
    "\n",
    "    train_dataloader = DataLoader(train_torch, batch_size=batch_size, sampler=train_subsampler)\n",
    "    val_dataloader = DataLoader(train_torch, batch_size=batch_size, sampler=val_subsampler)\n",
    "\n",
    "    for epoch in range(num_epochs):\n",
    "        model.train()\n",
    "        train_epoch_loss = 0.0\n",
    "        train_correct_predictions = 0\n",
    "\n",
    "        for inputs, labels in train_dataloader:\n",
    "            optimizer.zero_grad()\n",
    "            outputs = model(inputs)\n",
    "            train_loss = criterion(outputs, labels.long())\n",
    "            train_loss.backward()\n",
    "            optimizer.step()\n",
    "\n",
    "            train_epoch_loss += train_loss.item()\n",
    "            \n",
    "            _, predicted = torch.max(outputs, 1)\n",
    "            train_correct_predictions += (predicted == labels).sum().item()\n",
    "\n",
    "\n",
    "            with torch.no_grad():\n",
    "                val_epoch_loss = 0.0\n",
    "                for val_inputs, val_labels in val_dataloader:\n",
    "                    val_outputs = model(val_inputs)\n",
    "                    val_loss = criterion(val_outputs, val_labels.long())\n",
    "                    val_epoch_loss += val_loss.item()\n",
    "\n",
    "\n",
    "        average_train_loss = train_epoch_loss / len(train_dataloader.dataset)\n",
    "        accuracy = train_correct_predictions / len(train_dataloader.dataset)\n",
    "        train_losses.append(average_train_loss)\n",
    "\n",
    "        average_val_loss = val_epoch_loss / len(val_dataloader.dataset)\n",
    "        val_losses.append(average_val_loss)\n",
    "\n",
    "    print(f'[{fold+1}] Fold => Train Loss: {average_train_loss:.4f}, Accuracy: {accuracy:.4f} | Validation Loss {average_val_loss:.4f}')\n"
   ]
  },
  {
   "cell_type": "code",
   "execution_count": 26,
   "metadata": {},
   "outputs": [
    {
     "data": {
      "image/png": "[encoded data removed]",
      "text/plain": [
       "<Figure size 640x480 with 1 Axes>"
      ]
     },
     "metadata": {},
     "output_type": "display_data"
    }
   ],
   "source": [
    "# Visualize the training loss graph\n",
    "plt.plot(train_losses, label='Train')\n",
    "plt.plot(val_losses, label='Validation')\n",
    "plt.xlabel('Epoch')\n",
    "plt.ylabel('Loss')\n",
    "plt.title('Loss Over Epochs')\n",
    "plt.legend(loc='upper right', bbox_to_anchor=(1.3, 1))\n",
    "plt.show()"
   ]
  },
  {
   "cell_type": "code",
   "execution_count": null,
   "metadata": {},
   "outputs": [],
   "source": [
    "# model_path = '../model/MLP.pt'\n",
    "# torch.save(model, model_path)"
   ]
  },
  {
   "cell_type": "markdown",
   "metadata": {},
   "source": [
    "# Test\n",
    "### - Run after excution of all the functions and classes"
   ]
  },
  {
   "cell_type": "code",
   "execution_count": 26,
   "metadata": {},
   "outputs": [],
   "source": [
    "model_path = './save/models/MLP_4-cls_10-folds.pt'\n",
    "model = torch.load(model_path)"
   ]
  },
  {
   "cell_type": "code",
   "execution_count": 27,
   "metadata": {},
   "outputs": [],
   "source": [
    "test_torch = DEAPDataset(X_test, y_test)\n",
    "test_dataloader = DataLoader(test_torch, batch_size=1, shuffle=True)"
   ]
  },
  {
   "cell_type": "code",
   "execution_count": 28,
   "metadata": {},
   "outputs": [],
   "source": [
    "activation = {}\n",
    "def get_activation(name):\n",
    "    def hook(model, input, output):\n",
    "        activation[name] = output.detach()\n",
    "    return hook"
   ]
  },
  {
   "cell_type": "code",
   "execution_count": 29,
   "metadata": {},
   "outputs": [
    {
     "name": "stdout",
     "output_type": "stream",
     "text": [
      "Trial[1] prediction: 3, truth: 2\n",
      "Trial[2] prediction: 0, truth: 0\n",
      "Trial[3] prediction: 3, truth: 2\n",
      "Trial[4] prediction: 2, truth: 0\n",
      "Trial[5] prediction: 2, truth: 3\n",
      "Trial[6] prediction: 0, truth: 1\n",
      "Trial[7] prediction: 1, truth: 3\n",
      "Trial[8] prediction: 3, truth: 1\n",
      "Trial[9] prediction: 3, truth: 2\n",
      "Trial[10] prediction: 0, truth: 0\n",
      "Trial[11] prediction: 0, truth: 3\n",
      "Trial[12] prediction: 0, truth: 0\n",
      "Trial[13] prediction: 3, truth: 0\n",
      "Trial[14] prediction: 3, truth: 2\n",
      "Trial[15] prediction: 0, truth: 0\n",
      "Trial[16] prediction: 0, truth: 2\n",
      "Trial[17] prediction: 2, truth: 3\n",
      "Trial[18] prediction: 1, truth: 2\n",
      "Trial[19] prediction: 2, truth: 0\n",
      "Trial[20] prediction: 0, truth: 3\n",
      "Trial[21] prediction: 2, truth: 1\n",
      "Trial[22] prediction: 2, truth: 3\n",
      "Trial[23] prediction: 2, truth: 0\n",
      "Trial[24] prediction: 2, truth: 2\n",
      "Trial[25] prediction: 3, truth: 0\n",
      "Trial[26] prediction: 3, truth: 2\n",
      "Trial[27] prediction: 0, truth: 0\n",
      "Trial[28] prediction: 2, truth: 1\n",
      "Trial[29] prediction: 0, truth: 2\n",
      "Trial[30] prediction: 0, truth: 0\n",
      "Trial[31] prediction: 2, truth: 3\n",
      "Trial[32] prediction: 2, truth: 2\n",
      "Trial[33] prediction: 0, truth: 3\n",
      "Trial[34] prediction: 0, truth: 0\n",
      "Trial[35] prediction: 0, truth: 2\n",
      "Trial[36] prediction: 1, truth: 1\n",
      "Trial[37] prediction: 0, truth: 1\n",
      "Trial[38] prediction: 0, truth: 3\n",
      "Trial[39] prediction: 0, truth: 3\n",
      "Trial[40] prediction: 3, truth: 2\n",
      "Trial[41] prediction: 2, truth: 3\n",
      "Trial[42] prediction: 3, truth: 0\n",
      "Trial[43] prediction: 2, truth: 0\n",
      "Trial[44] prediction: 1, truth: 1\n",
      "Trial[45] prediction: 0, truth: 0\n",
      "Trial[46] prediction: 2, truth: 1\n",
      "Trial[47] prediction: 0, truth: 2\n",
      "Trial[48] prediction: 1, truth: 1\n",
      "Trial[49] prediction: 0, truth: 0\n",
      "Trial[50] prediction: 2, truth: 2\n",
      "Trial[51] prediction: 3, truth: 0\n",
      "Trial[52] prediction: 0, truth: 3\n",
      "Trial[53] prediction: 1, truth: 2\n",
      "Trial[54] prediction: 1, truth: 0\n",
      "Trial[55] prediction: 1, truth: 1\n",
      "Trial[56] prediction: 0, truth: 2\n",
      "Trial[57] prediction: 3, truth: 3\n",
      "Trial[58] prediction: 0, truth: 2\n",
      "Trial[59] prediction: 0, truth: 2\n",
      "Trial[60] prediction: 2, truth: 2\n",
      "Trial[61] prediction: 0, truth: 2\n",
      "Trial[62] prediction: 1, truth: 2\n",
      "Trial[63] prediction: 0, truth: 1\n",
      "Trial[64] prediction: 0, truth: 0\n",
      "Trial[65] prediction: 0, truth: 2\n",
      "Trial[66] prediction: 0, truth: 3\n",
      "Trial[67] prediction: 3, truth: 0\n",
      "Trial[68] prediction: 2, truth: 1\n",
      "Trial[69] prediction: 0, truth: 0\n",
      "Trial[70] prediction: 2, truth: 0\n",
      "Trial[71] prediction: 3, truth: 0\n",
      "Trial[72] prediction: 2, truth: 0\n",
      "Trial[73] prediction: 2, truth: 2\n",
      "Trial[74] prediction: 3, truth: 1\n",
      "Trial[75] prediction: 3, truth: 0\n",
      "Trial[76] prediction: 1, truth: 0\n",
      "Trial[77] prediction: 1, truth: 0\n",
      "Trial[78] prediction: 0, truth: 2\n",
      "Trial[79] prediction: 3, truth: 0\n",
      "Trial[80] prediction: 0, truth: 2\n",
      "Trial[81] prediction: 0, truth: 3\n",
      "Trial[82] prediction: 3, truth: 1\n",
      "Trial[83] prediction: 1, truth: 1\n",
      "Trial[84] prediction: 0, truth: 2\n",
      "Trial[85] prediction: 0, truth: 0\n",
      "Trial[86] prediction: 1, truth: 3\n",
      "Trial[87] prediction: 1, truth: 3\n",
      "Trial[88] prediction: 0, truth: 1\n",
      "Test Accuracy: 0.2614\n"
     ]
    }
   ],
   "source": [
    "# Evaluate on the test set\n",
    "model.eval()\n",
    "idx = 0\n",
    "intermediate_features = []\n",
    "\n",
    "model.softmax.register_forward_hook(get_activation('softmax'))\n",
    "\n",
    "with torch.no_grad():\n",
    "    correct_predictions = 0\n",
    "\n",
    "    for test_inputs, test_labels in test_dataloader:\n",
    "        test_outputs = model(test_inputs)\n",
    "        # print(test_outputs)\n",
    "        _, predicted_labels = torch.max(test_outputs, 1)\n",
    "\n",
    "        intermediate_features.append(activation['softmax'].cpu().numpy())\n",
    "\n",
    "        print(f\"Trial[{idx+1}] prediction: {int(predicted_labels)}, truth: {int(test_labels)}\")\n",
    "        idx += 1\n",
    "\n",
    "        correct_predictions += (predicted_labels == test_labels).sum().item()\n",
    "\n",
    "    test_accuracy = correct_predictions / len(test_dataloader.dataset)\n",
    "    print(f'Test Accuracy: {test_accuracy:.4f}')"
   ]
  },
  {
   "cell_type": "code",
   "execution_count": 30,
   "metadata": {},
   "outputs": [
    {
     "name": "stdout",
     "output_type": "stream",
     "text": [
      "Trial[1] [[8.0149360e-03 1.0871556e-11 9.5756777e-14 9.9198508e-01]]\n",
      "Trial[2] [[9.9999940e-01 2.1026288e-26 5.1254335e-07 7.4982701e-08]]\n",
      "Trial[3] [[1.1988784e-02 9.8800194e-01 8.4522908e-06 7.9136532e-07]]\n",
      "Trial[4] [[9.9136424e-01 1.3162934e-15 8.5631609e-03 7.2520066e-05]]\n",
      "Trial[5] [[9.3836133e-11 9.9977368e-01 1.9147556e-04 3.4834724e-05]]\n",
      "Trial[6] [[3.6766752e-09 2.1725371e-12 1.0000000e+00 8.8032373e-11]]\n",
      "Trial[7] [[6.3134314e-05 7.4861143e-27 1.1929069e-03 9.9874395e-01]]\n",
      "Trial[8] [[9.9999189e-01 4.9794685e-06 3.1461050e-06 3.6167230e-10]]\n",
      "Trial[9] [[3.2296175e-01 9.9430654e-06 6.7702729e-01 1.0697889e-06]]\n",
      "Trial[10] [[6.4902860e-25 9.8090893e-45 1.8543078e-23 1.0000000e+00]]\n",
      "Trial[11] [[8.4582573e-01 1.1104987e-15 1.5768188e-03 1.5259750e-01]]\n",
      "Trial[12] [[9.97657657e-01 1.52535461e-15 1.19238866e-04 2.22300109e-03]]\n",
      "Trial[13] [[9.9831629e-01 4.8232278e-06 1.6695301e-03 9.3210547e-06]]\n",
      "Trial[14] [[0.07561659 0.7908439  0.13097724 0.00256225]]\n",
      "Trial[15] [[1.14128776e-01 1.89923684e-12 8.54821369e-09 8.85871232e-01]]\n",
      "Trial[16] [[7.4290329e-01 1.0621915e-25 2.5301352e-01 4.0830681e-03]]\n",
      "Trial[17] [[9.9999928e-01 3.7089035e-07 3.4608164e-14 3.3902992e-07]]\n",
      "Trial[18] [[9.8377836e-01 2.9034284e-26 3.9080883e-06 1.6217791e-02]]\n",
      "Trial[19] [[9.9993110e-01 4.1761841e-14 6.8517780e-05 4.1334928e-07]]\n",
      "Trial[20] [[3.6878169e-01 3.2640544e-15 2.5526288e-07 6.3121808e-01]]\n",
      "Trial[21] [[1.2910364e-05 2.5900392e-24 9.9998701e-01 1.5599252e-07]]\n",
      "Trial[22] [[7.3426133e-01 6.3807309e-10 2.7650867e-02 2.3808785e-01]]\n",
      "Trial[23] [[9.9753040e-01 2.9233130e-10 2.4696225e-03 4.1368971e-11]]\n",
      "Trial[24] [[0.0573328  0.02791921 0.7214121  0.1933359 ]]\n",
      "Trial[25] [[1.9556616e-04 2.6968709e-09 9.9980444e-01 2.9942893e-12]]\n",
      "Trial[26] [[5.6224906e-01 5.5982911e-14 4.3745226e-01 2.9866330e-04]]\n",
      "Trial[27] [[9.9981874e-01 1.7581750e-21 9.5091088e-12 1.8131573e-04]]\n",
      "Trial[28] [[3.8973361e-02 1.1343523e-22 1.4291647e-02 9.4673502e-01]]\n",
      "Trial[29] [[0.002941   0.         0.0039015  0.99315757]]\n",
      "Trial[30] [[6.0242260e-01 4.0152992e-07 3.9757702e-01 5.1716405e-08]]\n",
      "Trial[31] [[2.4794795e-07 1.1801494e-16 9.9999976e-01 2.2217931e-08]]\n",
      "Trial[32] [[4.8227675e-02 7.0478827e-09 6.5677433e-04 9.5111555e-01]]\n",
      "Trial[33] [[3.7092801e-02 5.1374306e-18 9.6237677e-01 5.3052104e-04]]\n",
      "Trial[34] [[5.3697759e-03 7.5334856e-11 9.9463010e-01 1.5171481e-07]]\n",
      "Trial[35] [[1.0000000e+00 4.1821575e-24 1.8004037e-11 4.1912590e-14]]\n",
      "Trial[36] [[9.9908149e-01 9.0363898e-08 9.1233203e-04 6.0600787e-06]]\n",
      "Trial[37] [[9.8696506e-01 2.2360025e-07 1.3033182e-02 1.5655680e-06]]\n",
      "Trial[38] [[9.1938806e-01 2.7185607e-07 2.6877912e-02 5.3733733e-02]]\n",
      "Trial[39] [[1.0000000e+00 5.4290807e-09 9.8090893e-45 2.9557637e-12]]\n",
      "Trial[40] [[8.85512710e-01 3.40384865e-14 1.14458114e-01 2.91456290e-05]]\n",
      "Trial[41] [[4.7726277e-02 1.7564764e-03 9.5051157e-01 5.5806404e-06]]\n",
      "Trial[42] [[7.5112063e-14 1.4012985e-45 4.5756935e-25 1.0000000e+00]]\n",
      "Trial[43] [[4.7663072e-04 5.7400781e-22 9.9930012e-01 2.2325112e-04]]\n",
      "Trial[44] [[9.8225260e-01 2.4718615e-15 3.5459760e-07 1.7747056e-02]]\n",
      "Trial[45] [[4.191259e-10 8.898743e-36 0.000000e+00 1.000000e+00]]\n",
      "Trial[46] [[9.9876165e-01 1.1295944e-03 1.0873916e-04 1.1841151e-07]]\n",
      "Trial[47] [[3.5260794e-01 5.4887054e-04 6.3503194e-01 1.1811257e-02]]\n",
      "Trial[48] [[3.0611936e-15 7.1632045e-27 1.0000000e+00 4.9099505e-13]]\n",
      "Trial[49] [[8.0775458e-01 1.2102317e-29 5.3157418e-32 1.9224544e-01]]\n",
      "Trial[50] [[1.0000000e+00 5.6932451e-23 9.9105258e-24 1.0442615e-08]]\n",
      "Trial[51] [[2.7110347e-01 8.8973803e-07 2.2403246e-01 5.0486314e-01]]\n",
      "Trial[52] [[2.7989634e-06 9.3873943e-11 9.9999726e-01 5.4433629e-17]]\n",
      "Trial[53] [[1.5387879e-01 3.8444623e-41 4.1756163e-24 8.4612119e-01]]\n",
      "Trial[54] [[3.6533860e-05 1.7674972e-04 5.6085062e-01 4.3893614e-01]]\n",
      "Trial[55] [[7.0626223e-01 1.8721107e-36 0.0000000e+00 2.9373774e-01]]\n",
      "Trial[56] [[9.9999976e-01 6.9851419e-17 4.6629289e-08 2.8632959e-07]]\n",
      "Trial[57] [[9.6107417e-01 1.6022343e-11 3.8925674e-02 9.7812695e-08]]\n",
      "Trial[58] [[5.0747180e-01 4.0864265e-06 4.9250865e-01 1.5469874e-05]]\n",
      "Trial[59] [[4.5815672e-04 7.6057605e-25 6.4230491e-08 9.9954176e-01]]\n",
      "Trial[60] [[9.5387583e-04 4.3789863e-10 9.9903774e-01 8.5004795e-06]]\n",
      "Trial[61] [[1.0000000e+00 6.3583868e-20 4.6715353e-39 3.2595335e-10]]\n",
      "Trial[62] [[7.9322529e-01 2.0402244e-01 2.4945627e-03 2.5773887e-04]]\n",
      "Trial[63] [[1.3536480e-11 1.9099202e-28 4.5065219e-11 1.0000000e+00]]\n",
      "Trial[64] [[4.4096460e-06 9.4010335e-07 9.9999464e-01 1.6369177e-12]]\n",
      "Trial[65] [[1.4325976e-01 4.6435970e-01 3.9237693e-01 3.5701391e-06]]\n",
      "Trial[66] [[1.4485006e-04 9.0925020e-01 9.0604700e-02 2.5042368e-07]]\n",
      "Trial[67] [[9.9999869e-01 7.0412644e-24 1.2107099e-37 1.2850219e-06]]\n",
      "Trial[68] [[2.2517977e-16 0.0000000e+00 0.0000000e+00 1.0000000e+00]]\n",
      "Trial[69] [[9.9999726e-01 2.3038228e-21 8.4752987e-09 2.7179992e-06]]\n",
      "Trial[70] [[1.0000000e+00 2.5094454e-10 9.1281930e-13 2.2055758e-08]]\n",
      "Trial[71] [[9.6119270e-02 2.9792852e-04 3.4973897e-02 8.6860889e-01]]\n",
      "Trial[72] [[6.3498104e-01 1.7474574e-14 3.6501884e-01 8.7592227e-08]]\n",
      "Trial[73] [[9.8014510e-01 1.0413811e-07 2.3803036e-03 1.7474508e-02]]\n",
      "Trial[74] [[9.3472052e-01 6.5148205e-02 1.3126650e-04 4.3698236e-08]]\n",
      "Trial[75] [[4.2498347e-01 3.8187964e-09 4.9680982e-02 5.2533561e-01]]\n",
      "Trial[76] [[9.9859530e-01 1.5099760e-12 1.1202886e-04 1.2926634e-03]]\n",
      "Trial[77] [[9.9996841e-01 3.2233019e-13 8.5476773e-07 3.0812073e-05]]\n",
      "Trial[78] [[1.3919313e-01 3.4222102e-18 8.6009824e-01 7.0861232e-04]]\n",
      "Trial[79] [[2.0836745e-04 3.3676349e-38 1.6234631e-05 9.9977535e-01]]\n",
      "Trial[80] [[8.76111507e-01 3.58729623e-04 1.01114605e-02 1.13418356e-01]]\n",
      "Trial[81] [[3.9663238e-08 1.9142509e-11 6.1492472e-08 9.9999988e-01]]\n",
      "Trial[82] [[7.741988e-02 3.806975e-01 5.418819e-01 7.128108e-07]]\n",
      "Trial[83] [[8.4078437e-01 1.8450496e-16 6.7099754e-29 1.5921560e-01]]\n",
      "Trial[84] [[4.5408133e-01 0.0000000e+00 6.9611674e-28 5.4591864e-01]]\n",
      "Trial[85] [[9.9949241e-01 4.5176812e-08 5.0761044e-04 1.4279679e-11]]\n",
      "Trial[86] [[5.8848158e-02 3.3363278e-04 3.3387640e-01 6.0694188e-01]]\n",
      "Trial[87] [[9.9806148e-01 3.4048604e-11 1.9209381e-03 1.7627182e-05]]\n",
      "Trial[88] [[3.8729669e-03 3.7746114e-04 9.9527562e-01 4.7395506e-04]]\n"
     ]
    }
   ],
   "source": [
    "for i in range(len(intermediate_features)):\n",
    "    print(f\"Trial[{i+1}] {intermediate_features[i]}\")"
   ]
  },
  {
   "cell_type": "code",
   "execution_count": 35,
   "metadata": {},
   "outputs": [
    {
     "name": "stdout",
     "output_type": "stream",
     "text": [
      "The data has been saved to output.csv.\n"
     ]
    }
   ],
   "source": [
    "import csv\n",
    "\n",
    "# Specify the CSV file path\n",
    "csv_file_path = '/save/features/feature_example.csv'\n",
    "\n",
    "# Open the CSV file in write mode\n",
    "with open(csv_file_path, 'w', newline='') as csvfile:\n",
    "    # Create a CSV writer\n",
    "    csvwriter = csv.writer(csvfile)\n",
    "\n",
    "    # Iterate through each element in the list\n",
    "    for element in intermediate_features:\n",
    "        # Flatten the numpy array and convert to a list\n",
    "        flattened_list = element.flatten().tolist()\n",
    "\n",
    "        # Write the flattened list to the CSV file\n",
    "        csvwriter.writerow(flattened_list)\n",
    "\n",
    "print(f\"The data has been saved to {csv_file_path}.\")"
   ]
  },
  {
   "cell_type": "code",
   "execution_count": null,
   "metadata": {},
   "outputs": [],
   "source": [
    "# import matplotlib.pyplot as plt\n",
    "# import numpy as np\n",
    "\n",
    "# # 1. 기본 스타일 설정\n",
    "# plt.style.use('default')\n",
    "# plt.rcParams['figure.figsize'] = (5, 3)\n",
    "# plt.rcParams['font.size'] = 12\n",
    "\n",
    "# # 2. 데이터 준비\n",
    "# np.random.seed(0)\n",
    "# data_a = np.random.normal(6.8, 1, 10)\n",
    "# data_b = np.random.normal(5.9, 1.5, 100)\n",
    "# data_c = np.random.normal(3.3, 1.5, 100)\n",
    "# data_d = np.random.normal(4, 1.5, 100)\n",
    "\n",
    "# # 3. 그래프 그리기\n",
    "# fig, ax = plt.subplots()\n",
    "\n",
    "# ax.boxplot([data_a, data_b, data_c, data_d])\n",
    "# ax.set_ylim(1.0, 9.0)\n",
    "# ax.set_xlabel('Data Type')\n",
    "# ax.set_ylabel('Likert-scale')\n",
    "# ax.set_title('Q4 (HVLA)')\n",
    "# ax.set_xticklabels(['MD-V', 'GM-V', 'MD-A', 'GM-A'])\n",
    "\n",
    "# plt.show()"
   ]
  },
  {
   "cell_type": "code",
   "execution_count": null,
   "metadata": {},
   "outputs": [],
   "source": [
    "# import muspy\n",
    "\n",
    "# # Load a MIDI file using MusPy\n",
    "# data_file_path = \"../data/emopia/EMOPIA_1.0/midis/Q1__8v0MFBZoco_0.mid\"\n",
    "# target_file_path = \"../midi/test9_emotion[1].mid\"\n",
    "# score = muspy.read_midi(target_file_path)\n",
    "\n",
    "# # Extract Pitch Range\n",
    "# pitch_range = muspy.pitch_range(score)\n",
    "\n",
    "# # # Extract Number of Pitch Classes per Bar\n",
    "# num_pitch_classes_per_bar = muspy.n_pitch_classes_used(score)\n",
    "\n",
    "# # # Extract Polyphony\n",
    "# polyphony = muspy.polyphony(score)\n",
    "\n",
    "# # Print or use the extracted features\n",
    "# print(\"Pitch Range:\", pitch_range)\n",
    "# print(\"Number of Pitch Classes per Bar:\", num_pitch_classes_per_bar)\n",
    "# print(\"Polyphony:\", polyphony)\n"
   ]
  },
  {
   "cell_type": "code",
   "execution_count": 41,
   "metadata": {},
   "outputs": [
    {
     "name": "stdout",
     "output_type": "stream",
     "text": [
      "['01', '02', '03', '04', '05', '06', '07', '08', '09', '10', '11', '12', '13', '14', '15', '16', '17', '18', '19', '20', '21', '22']\n"
     ]
    }
   ],
   "source": [
    "# Load only 22/32 participants with frontal videos recorded\n",
    "files = []\n",
    "for n in range(1, 23): \n",
    "    s = ''\n",
    "    if n < 10:\n",
    "        s += '0'\n",
    "    s += str(n)\n",
    "    files.append(s)\n",
    "print(files)"
   ]
  },
  {
   "cell_type": "code",
   "execution_count": 46,
   "metadata": {},
   "outputs": [],
   "source": [
    "data = []\n",
    "labels = []\n",
    "for i in files: \n",
    "    filename = \"../data/deap/s\" + i + \".mat\"\n",
    "    deap_data = scipy.io.loadmat(filename)\n",
    "    # separate data and labels\n",
    "    data.append(np.array(deap_data['data'])) # for current data\n",
    "    labels.append(np.array(deap_data['labels'])) # for current labels\n"
   ]
  },
  {
   "cell_type": "code",
   "execution_count": 48,
   "metadata": {},
   "outputs": [],
   "source": [
    "data = np.array(data)\n",
    "labels = np.array(labels)"
   ]
  },
  {
   "cell_type": "code",
   "execution_count": 58,
   "metadata": {},
   "outputs": [],
   "source": [
    "# Parameters\n",
    "sampling_rate = 128\n",
    "windowed_data = []\n",
    "windowed_labels = []\n",
    "channel_no = [0, 2, 16, 19]\n",
    "\n",
    "for i in range(len(files)):\n",
    "    new_data = data[i, :, :, 384:8064]\n",
    "    # Apply sliding window to EEG data\n",
    "    new_data = apply_sliding_window(new_data, window_size, overlap_size, sampling_rate)\n",
    "    # windowed_data = new_data.transpose(0, 2, 1, 3)\n",
    "    windowed_data.append(new_data.reshape(new_data.shape[0]* new_data.shape[2], new_data.shape[1], new_data.shape[3]))\n",
    "    windowed_labels.append(np.repeat(labels[i], new_data.shape[2], axis=0))\n",
    "\n",
    "windowed_data = np.take(np.array(windowed_data), channel_no, axis=2)\n",
    "windowed_labels = np.array(windowed_labels)\n",
    "\n",
    "        "
   ]
  },
  {
   "cell_type": "code",
   "execution_count": 62,
   "metadata": {},
   "outputs": [
    {
     "name": "stdout",
     "output_type": "stream",
     "text": [
      "(22, 440, 4, 1280)\n",
      "(22, 440, 4)\n"
     ]
    }
   ],
   "source": [
    "print(windowed_data[:, ])\n",
    "print(windowed_labels.shape)"
   ]
  }
 ],
 "metadata": {
  "colab": {
   "provenance": []
  },
  "kernelspec": {
   "display_name": "Python 3",
   "language": "python",
   "name": "python3"
  },
  "language_info": {
   "codemirror_mode": {
    "name": "ipython",
    "version": 3
   },
   "file_extension": ".py",
   "mimetype": "text/x-python",
   "name": "python",
   "nbconvert_exporter": "python",
   "pygments_lexer": "ipython3",
   "version": "3.1.0"
  }
 },
 "nbformat": 4,
 "nbformat_minor": 1
}
